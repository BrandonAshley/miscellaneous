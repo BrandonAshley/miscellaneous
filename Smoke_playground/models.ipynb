{
 "cells": [
  {
   "cell_type": "code",
   "execution_count": 1,
   "id": "e5ea6c20-c027-4600-932f-d90090a78e82",
   "metadata": {
    "tags": []
   },
   "outputs": [],
   "source": [
    "import numpy as np\n",
    "import pandas as pd\n",
    "\n",
    "train=pd.read_csv('train.csv')\n",
    "test=pd.read_csv('test.csv')"
   ]
  },
  {
   "cell_type": "code",
   "execution_count": 2,
   "id": "0b9b5fdd-f9da-4c66-88fa-81a126eb5cc6",
   "metadata": {
    "tags": []
   },
   "outputs": [
    {
     "name": "stdout",
     "output_type": "stream",
     "text": [
      "<class 'pandas.core.frame.DataFrame'>\n",
      "RangeIndex: 156620 entries, 0 to 156619\n",
      "Data columns (total 28 columns):\n",
      " #   Column               Non-Null Count   Dtype  \n",
      "---  ------               --------------   -----  \n",
      " 0   age                  156620 non-null  int64  \n",
      " 1   weight(kg)           156620 non-null  int64  \n",
      " 2   waist(cm)            156620 non-null  float64\n",
      " 3   hearing(left)        156620 non-null  int64  \n",
      " 4   hearing(right)       156620 non-null  int64  \n",
      " 5   systolic             156620 non-null  int64  \n",
      " 6   relaxation           156620 non-null  int64  \n",
      " 7   fasting blood sugar  156620 non-null  int64  \n",
      " 8   Cholesterol          156620 non-null  int64  \n",
      " 9   triglyceride         156620 non-null  int64  \n",
      " 10  HDL                  156620 non-null  int64  \n",
      " 11  LDL                  156620 non-null  int64  \n",
      " 12  hemoglobin           156620 non-null  float64\n",
      " 13  Urine protein        156620 non-null  int64  \n",
      " 14  serum creatinine     156620 non-null  float64\n",
      " 15  AST                  156620 non-null  int64  \n",
      " 16  ALT                  156620 non-null  int64  \n",
      " 17  Gtp                  156620 non-null  int64  \n",
      " 18  dental caries        156620 non-null  int64  \n",
      " 19  smoking              156620 non-null  int64  \n",
      " 20  bmi                  156620 non-null  float64\n",
      " 21  Waist_Height_Ratio   156620 non-null  float64\n",
      " 22  Waist_ratio          156620 non-null  int64  \n",
      " 23  Average_eyesight     156620 non-null  float64\n",
      " 24  Eye_difference       156620 non-null  float64\n",
      " 25  Average_hearing      156620 non-null  float64\n",
      " 26  hemoglobin_range     156620 non-null  int64  \n",
      " 27  Gtp_range            156620 non-null  int64  \n",
      "dtypes: float64(8), int64(20)\n",
      "memory usage: 33.5 MB\n",
      "None\n",
      "<class 'pandas.core.frame.DataFrame'>\n",
      "RangeIndex: 106171 entries, 0 to 106170\n",
      "Data columns (total 28 columns):\n",
      " #   Column               Non-Null Count   Dtype  \n",
      "---  ------               --------------   -----  \n",
      " 0   id                   106171 non-null  int64  \n",
      " 1   age                  106171 non-null  int64  \n",
      " 2   weight(kg)           106171 non-null  int64  \n",
      " 3   waist(cm)            106171 non-null  float64\n",
      " 4   hearing(left)        106171 non-null  int64  \n",
      " 5   hearing(right)       106171 non-null  int64  \n",
      " 6   systolic             106171 non-null  int64  \n",
      " 7   relaxation           106171 non-null  int64  \n",
      " 8   fasting blood sugar  106171 non-null  int64  \n",
      " 9   Cholesterol          106171 non-null  int64  \n",
      " 10  triglyceride         106171 non-null  int64  \n",
      " 11  HDL                  106171 non-null  int64  \n",
      " 12  LDL                  106171 non-null  int64  \n",
      " 13  hemoglobin           106171 non-null  float64\n",
      " 14  Urine protein        106171 non-null  int64  \n",
      " 15  serum creatinine     106171 non-null  float64\n",
      " 16  AST                  106171 non-null  int64  \n",
      " 17  ALT                  106171 non-null  int64  \n",
      " 18  Gtp                  106171 non-null  int64  \n",
      " 19  dental caries        106171 non-null  int64  \n",
      " 20  bmi                  106171 non-null  float64\n",
      " 21  Waist_Height_Ratio   106171 non-null  float64\n",
      " 22  Waist_ratio          106171 non-null  int64  \n",
      " 23  Average_eyesight     106171 non-null  float64\n",
      " 24  Eye_difference       106171 non-null  float64\n",
      " 25  Average_hearing      106171 non-null  float64\n",
      " 26  hemoglobin_range     106171 non-null  int64  \n",
      " 27  Gtp_range            106171 non-null  int64  \n",
      "dtypes: float64(8), int64(20)\n",
      "memory usage: 22.7 MB\n",
      "None\n"
     ]
    }
   ],
   "source": [
    "train.drop(columns=['Unnamed: 0','id'],inplace=True)\n",
    "test.drop(columns=['Unnamed: 0'],inplace=True)\n",
    "\n",
    "print(train.info())\n",
    "print(test.info())"
   ]
  },
  {
   "cell_type": "code",
   "execution_count": 3,
   "id": "6d128683-57aa-4cdd-806c-697dc268edab",
   "metadata": {
    "tags": []
   },
   "outputs": [],
   "source": [
    "from sklearn.model_selection import train_test_split\n",
    "from sklearn.metrics import accuracy_score, confusion_matrix\n",
    "from sklearn.preprocessing import StandardScaler\n",
    "# Load and prepare your dataset (X, y)\n",
    "y=train['smoking']\n",
    "X=train.drop(columns=['smoking'])\n",
    "\n",
    "\n",
    "# Split the dataset into training and testing sets\n",
    "X_train, X_test, y_train, y_test = train_test_split(X, y, test_size=0.2, random_state=42)\n",
    "\n",
    "scaler = StandardScaler()\n",
    "X_train = scaler.fit_transform(X_train)\n",
    "X_test = scaler.transform(X_test)\n",
    "\n"
   ]
  },
  {
   "cell_type": "code",
   "execution_count": 4,
   "id": "1f9cc4b6-21b9-45d4-ab0e-3165d85af3b9",
   "metadata": {
    "tags": []
   },
   "outputs": [
    {
     "name": "stdout",
     "output_type": "stream",
     "text": [
      "Epoch 1/15\n",
      "1958/1958 [==============================] - 5s 2ms/step - loss: 0.4853 - accuracy: 0.7527\n",
      "Epoch 2/15\n",
      "1958/1958 [==============================] - 3s 2ms/step - loss: 0.4660 - accuracy: 0.7676\n",
      "Epoch 3/15\n",
      "1958/1958 [==============================] - 3s 1ms/step - loss: 0.4626 - accuracy: 0.7696\n",
      "Epoch 4/15\n",
      "1958/1958 [==============================] - 3s 1ms/step - loss: 0.4593 - accuracy: 0.7716\n",
      "Epoch 5/15\n",
      "1958/1958 [==============================] - 3s 1ms/step - loss: 0.4581 - accuracy: 0.7729\n",
      "Epoch 6/15\n",
      "1958/1958 [==============================] - 3s 1ms/step - loss: 0.4569 - accuracy: 0.7730\n",
      "Epoch 7/15\n",
      "1958/1958 [==============================] - 3s 2ms/step - loss: 0.4573 - accuracy: 0.7731\n",
      "Epoch 8/15\n",
      "1958/1958 [==============================] - 3s 2ms/step - loss: 0.4560 - accuracy: 0.7734\n",
      "Epoch 9/15\n",
      "1958/1958 [==============================] - 3s 1ms/step - loss: 0.4547 - accuracy: 0.7746\n",
      "Epoch 10/15\n",
      "1958/1958 [==============================] - 3s 1ms/step - loss: 0.4545 - accuracy: 0.7751\n",
      "Epoch 11/15\n",
      "1958/1958 [==============================] - 3s 2ms/step - loss: 0.4538 - accuracy: 0.7749\n",
      "Epoch 12/15\n",
      "1958/1958 [==============================] - 3s 1ms/step - loss: 0.4536 - accuracy: 0.7751\n",
      "Epoch 13/15\n",
      "1958/1958 [==============================] - 3s 1ms/step - loss: 0.4535 - accuracy: 0.7759\n",
      "Epoch 14/15\n",
      "1958/1958 [==============================] - 3s 1ms/step - loss: 0.4533 - accuracy: 0.7758\n",
      "Epoch 15/15\n",
      "1958/1958 [==============================] - 3s 1ms/step - loss: 0.4532 - accuracy: 0.7754\n",
      "979/979 [==============================] - 1s 734us/step\n",
      "fnn Accuracy: 0.7739752266632614\n",
      "Confusion Matrix:\n",
      "[[13428  4334]\n",
      " [ 2746 10816]]\n"
     ]
    }
   ],
   "source": [
    "import tensorflow as tf\n",
    "from tensorflow import keras\n",
    "from tensorflow.keras import layers\n",
    "\n",
    "# Define your FNN model\n",
    "model_fnn = keras.Sequential([\n",
    "    layers.Input(shape=(X_train.shape[1],)),  # Replace num_features with the number of input features\n",
    "    layers.Dense(64, activation='relu'),\n",
    "    layers.Dropout(0.2),\n",
    "    layers.Dense(32, activation='relu'),\n",
    "    layers.Dropout(0.2),\n",
    "    layers.Dense(1, activation='sigmoid')  # For binary classification\n",
    "])\n",
    "\n",
    "# Compile the model\n",
    "model_fnn.compile(optimizer='adam', loss='binary_crossentropy', metrics=['accuracy'])\n",
    "\n",
    "# Train the model\n",
    "model_fnn.fit(X_train, y_train, epochs=15, batch_size=64)  # Replace X_train and y_train with your data\n",
    "FNN_y_pred = model_fnn.predict(X_test)\n",
    "FNN_y_pred = (FNN_y_pred > 0.5).astype(int)\n",
    "# Evaluate the model's performance\n",
    "accuracy = accuracy_score(y_test,FNN_y_pred)\n",
    "print(f\"fnn Accuracy: {accuracy}\")\n",
    "\n",
    "conf_matrix = confusion_matrix(y_test, FNN_y_pred)\n",
    "print(\"Confusion Matrix:\")\n",
    "print(conf_matrix)"
   ]
  },
  {
   "cell_type": "code",
   "execution_count": 5,
   "id": "0ff45161-07c0-4e1b-8870-50ce026d2e9d",
   "metadata": {
    "tags": []
   },
   "outputs": [
    {
     "name": "stdout",
     "output_type": "stream",
     "text": [
      "Epoch 1/15\n",
      "1958/1958 [==============================] - 10s 4ms/step - loss: 0.5030 - accuracy: 0.7416\n",
      "Epoch 2/15\n",
      "1958/1958 [==============================] - 8s 4ms/step - loss: 0.4764 - accuracy: 0.7595\n",
      "Epoch 3/15\n",
      "1958/1958 [==============================] - 9s 4ms/step - loss: 0.4699 - accuracy: 0.7630\n",
      "Epoch 4/15\n",
      "1958/1958 [==============================] - 8s 4ms/step - loss: 0.4667 - accuracy: 0.7656\n",
      "Epoch 5/15\n",
      "1958/1958 [==============================] - 8s 4ms/step - loss: 0.4638 - accuracy: 0.7678\n",
      "Epoch 6/15\n",
      "1958/1958 [==============================] - 8s 4ms/step - loss: 0.4626 - accuracy: 0.7689\n",
      "Epoch 7/15\n",
      "1958/1958 [==============================] - 8s 4ms/step - loss: 0.4615 - accuracy: 0.7691\n",
      "Epoch 8/15\n",
      "1958/1958 [==============================] - 8s 4ms/step - loss: 0.4608 - accuracy: 0.7701\n",
      "Epoch 9/15\n",
      "1958/1958 [==============================] - 9s 5ms/step - loss: 0.4597 - accuracy: 0.7699\n",
      "Epoch 10/15\n",
      "1958/1958 [==============================] - 8s 4ms/step - loss: 0.4593 - accuracy: 0.7702\n",
      "Epoch 11/15\n",
      "1958/1958 [==============================] - 9s 4ms/step - loss: 0.4596 - accuracy: 0.7715\n",
      "Epoch 12/15\n",
      "1958/1958 [==============================] - 9s 4ms/step - loss: 0.4589 - accuracy: 0.7710\n",
      "Epoch 13/15\n",
      "1958/1958 [==============================] - 10s 5ms/step - loss: 0.4586 - accuracy: 0.7706\n",
      "Epoch 14/15\n",
      "1958/1958 [==============================] - 9s 4ms/step - loss: 0.4574 - accuracy: 0.7712\n",
      "Epoch 15/15\n",
      "1958/1958 [==============================] - 10s 5ms/step - loss: 0.4574 - accuracy: 0.7716\n",
      "979/979 [==============================] - 2s 2ms/step\n",
      "rnn Accuracy: 0.7661218235219002\n",
      "Confusion Matrix:\n",
      "[[13329  4433]\n",
      " [ 2893 10669]]\n"
     ]
    }
   ],
   "source": [
    "import tensorflow as tf\n",
    "from tensorflow import keras\n",
    "from tensorflow.keras import layers\n",
    "\n",
    "X_train_reshape=np.reshape(X_train,(X_train.shape[0],X_train.shape[1],1))\n",
    "\n",
    "# Define your RNN model\n",
    "model_rnn = keras.Sequential([\n",
    "    layers.Input(shape=(X_train_reshape.shape[1], X_train_reshape.shape[2] )),\n",
    "    layers.SimpleRNN(64, activation='relu'),\n",
    "    layers.Dense(1, activation='sigmoid')  # For binary classification\n",
    "])\n",
    "\n",
    "# Compile the model\n",
    "model_rnn.compile(optimizer='adam', loss='binary_crossentropy', metrics=['accuracy'])\n",
    "\n",
    "# Train the model\n",
    "model_rnn.fit(X_train, y_train, epochs=15, batch_size=64)\n",
    "rnn_y_pred = model_rnn.predict(X_test)\n",
    "rnn_y_pred = (rnn_y_pred > 0.5).astype(int)\n",
    "\n",
    "# Evaluate the model's performance\n",
    "accuracy = accuracy_score(y_test,rnn_y_pred)\n",
    "print(f\"rnn Accuracy: {accuracy}\")\n",
    "\n",
    "conf_matrix = confusion_matrix(y_test, rnn_y_pred)\n",
    "print(\"Confusion Matrix:\")\n",
    "print(conf_matrix)"
   ]
  },
  {
   "cell_type": "raw",
   "id": "e30578ef-5062-4c89-bb53-2dca785abe77",
   "metadata": {
    "tags": []
   },
   "source": [
    "import tensorflow as tf\n",
    "from tensorflow import keras\n",
    "from tensorflow.keras import layers\n",
    "\n",
    "# Define your LSTM model\n",
    "model_lstm = keras.Sequential([\n",
    "    layers.Input(shape=(X_train_reshape.shape[1], X_train_reshape.shape[2])),  # Replace sequence_length and num_features\n",
    "    layers.LSTM(64, activation='relu'),\n",
    "    layers.Dense(1, activation='sigmoid')  # For binary classification\n",
    "])\n",
    "\n",
    "# Compile the model\n",
    "model_lstm.compile(optimizer='adam', loss='binary_crossentropy', metrics=['accuracy'])\n",
    "\n",
    "# Train the model\n",
    "model_lstm.fit(X_train, y_train, epochs=10, batch_size=64)  # Replace X_train and y_train with your data\n",
    "\n",
    "lstm_y_pred = model_lstm.predict(X_test)\n",
    "lstm_y_pred = (lstm_y_pred > 0.5).astype(int)\n",
    "# Evaluate the model's performance\n",
    "accuracy = accuracy_score(y_test,lstm_y_pred)\n",
    "\n",
    "print(f\"lstm Accuracy: {accuracy}\")"
   ]
  },
  {
   "cell_type": "code",
   "execution_count": null,
   "id": "4b1fcbbc-397a-42c7-af1e-7bb75edac234",
   "metadata": {},
   "outputs": [],
   "source": []
  },
  {
   "cell_type": "code",
   "execution_count": 6,
   "id": "72552d19-72c2-4289-9c1c-44a7fd825760",
   "metadata": {},
   "outputs": [
    {
     "name": "stdout",
     "output_type": "stream",
     "text": [
      "logistic regression Accuracy: 0.7527774230621888\n",
      "Confusion Matrix:\n",
      "[[13389  4373]\n",
      " [ 3371 10191]]\n"
     ]
    }
   ],
   "source": [
    "from sklearn.linear_model import LogisticRegression\n",
    "from sklearn.metrics import accuracy_score\n",
    "\n",
    "# Create a Logistic Regression model\n",
    "lr_model = LogisticRegression()\n",
    "\n",
    "# Train the model on the training data\n",
    "lr_model.fit(X_train, y_train)\n",
    "\n",
    "# Make predictions on the test data\n",
    "lr_y_pred = lr_model.predict(X_test)\n",
    "\n",
    "# Evaluate the model's performance using accuracy\n",
    "accuracy = accuracy_score(y_test, lr_y_pred)\n",
    "print(f\"logistic regression Accuracy: {accuracy}\")\n",
    "conf_matrix = confusion_matrix(y_test, lr_y_pred)\n",
    "print(\"Confusion Matrix:\")\n",
    "print(conf_matrix)"
   ]
  },
  {
   "cell_type": "raw",
   "id": "d58685ea-5c9a-4311-bc2b-b2fe4d837eba",
   "metadata": {},
   "source": [
    "from sklearn.tree import DecisionTreeClassifier\n",
    "from sklearn.metrics import accuracy_score\n",
    "\n",
    "# Create a Decision Tree classifier\n",
    "dt_model = DecisionTreeClassifier(random_state=42)\n",
    "\n",
    "# Train the model on the training data\n",
    "dt_model.fit(X_train, y_train)\n",
    "\n",
    "# Make predictions on the test data\n",
    "dt_y_pred = dt_model.predict(X_test)\n",
    "\n",
    "# Evaluate the model's performance using accuracy\n",
    "accuracy = accuracy_score(y_test, dt_y_pred)\n",
    "print(f\"Decision tree Accuracy: {accuracy}\")\n",
    "conf_matrix = confusion_matrix(y_test, dt_y_pred)\n",
    "print(\"Confusion Matrix:\")\n",
    "print(conf_matrix)"
   ]
  },
  {
   "cell_type": "code",
   "execution_count": 7,
   "id": "7a498050-b2de-4059-8485-28c2b3907a0d",
   "metadata": {},
   "outputs": [
    {
     "name": "stdout",
     "output_type": "stream",
     "text": [
      "Random Forest Accuracy: 0.7670157068062827\n",
      "Confusion Matrix:\n",
      "[[13396  4366]\n",
      " [ 2932 10630]]\n"
     ]
    }
   ],
   "source": [
    "from sklearn.ensemble import RandomForestClassifier\n",
    "from sklearn.metrics import accuracy_score\n",
    "\n",
    "# Create a Random Forest Classifier\n",
    "rf_classifier = RandomForestClassifier(n_estimators=100, random_state=42)\n",
    "\n",
    "# Fit the classifier on the training data\n",
    "rf_classifier.fit(X_train, y_train)\n",
    "\n",
    "# Make predictions on the test data\n",
    "rf_predictions = rf_classifier.predict(X_test)\n",
    "\n",
    "# Evaluate accuracy\n",
    "rf_accuracy = accuracy_score(y_test, rf_predictions)\n",
    "print(f\"Random Forest Accuracy: {rf_accuracy}\")\n",
    "conf_matrix = confusion_matrix(y_test, rf_predictions)\n",
    "print(\"Confusion Matrix:\")\n",
    "print(conf_matrix)"
   ]
  },
  {
   "cell_type": "code",
   "execution_count": 8,
   "id": "a4cd4a3f-7ad9-4064-8369-9f99fee6c034",
   "metadata": {},
   "outputs": [
    {
     "name": "stdout",
     "output_type": "stream",
     "text": [
      "KNN Accuracy: 0.7273336738602988\n",
      "Confusion Matrix:\n",
      "[[12970  4792]\n",
      " [ 3749  9813]]\n"
     ]
    }
   ],
   "source": [
    "from sklearn.neighbors import KNeighborsClassifier\n",
    "from sklearn.metrics import accuracy_score\n",
    "\n",
    "# Create a K-Nearest Neighbors (KNN) Classifier\n",
    "knn_classifier = KNeighborsClassifier(n_neighbors=5)\n",
    "\n",
    "# Fit the classifier on the training data\n",
    "knn_classifier.fit(X_train, y_train)\n",
    "\n",
    "# Make predictions on the test data\n",
    "knn_predictions = knn_classifier.predict(X_test)\n",
    "\n",
    "# Evaluate accuracy\n",
    "knn_accuracy = accuracy_score(y_test, knn_predictions)\n",
    "print(f\"KNN Accuracy: {knn_accuracy}\")\n",
    "conf_matrix = confusion_matrix(y_test, knn_predictions)\n",
    "print(\"Confusion Matrix:\")\n",
    "print(conf_matrix)"
   ]
  },
  {
   "cell_type": "raw",
   "id": "3ee49a42-7384-4daa-a3b9-bf7f19a14da9",
   "metadata": {},
   "source": [
    "from sklearn.naive_bayes import GaussianNB\n",
    "from sklearn.metrics import accuracy_score\n",
    "\n",
    "# Create a Naive Bayes Classifier (Gaussian Naive Bayes for continuous data)\n",
    "nb_classifier = GaussianNB()\n",
    "\n",
    "# Fit the classifier on the training data\n",
    "nb_classifier.fit(X_train, y_train)\n",
    "\n",
    "# Make predictions on the test data\n",
    "nb_predictions = nb_classifier.predict(X_test)\n",
    "\n",
    "# Evaluate accuracy\n",
    "nb_accuracy = accuracy_score(y_test, nb_predictions)\n",
    "print(f\"Naive Bayes Accuracy: {nb_accuracy}\")\n",
    "conf_matrix = confusion_matrix(y_test, nb_predictions)\n",
    "print(\"Confusion Matrix:\")\n",
    "print(conf_matrix)"
   ]
  },
  {
   "cell_type": "code",
   "execution_count": 9,
   "id": "6160d4ba-09dc-4732-bdcd-b41ccbfb11c4",
   "metadata": {},
   "outputs": [
    {
     "name": "stdout",
     "output_type": "stream",
     "text": [
      "XGBoost with GPU Accuracy: 0.7801047120418848\n",
      "Confusion Matrix:\n",
      "[[13495  4267]\n",
      " [ 2621 10941]]\n"
     ]
    }
   ],
   "source": [
    "from xgboost import XGBClassifier\n",
    "\n",
    "xgb_model = XGBClassifier(\n",
    "    objective=\"binary:logistic\",\n",
    "    gamma=1,\n",
    "    learning_rate=0.1,\n",
    "    max_depth=5,\n",
    "    min_child_weight=3,\n",
    "    n_estimators=300,\n",
    "    random_state=42\n",
    ")\n",
    "\n",
    "# Train the model on the training data\n",
    "xgb_model.fit(X_train, y_train)\n",
    "\n",
    "# Make predictions on the test data\n",
    "xgb_y_pred = xgb_model.predict(X_test)\n",
    "\n",
    "# Evaluate the model's performance\n",
    "accuracy = accuracy_score(y_test, xgb_y_pred)\n",
    "print(f\"XGBoost with GPU Accuracy: {accuracy}\")\n",
    "conf_matrix = confusion_matrix(y_test, xgb_y_pred)\n",
    "print(\"Confusion Matrix:\")\n",
    "print(conf_matrix)\n",
    "\n"
   ]
  },
  {
   "cell_type": "code",
   "execution_count": 10,
   "id": "cb403ea4-0fc6-48e5-9614-55a09de78662",
   "metadata": {
    "tags": []
   },
   "outputs": [],
   "source": [
    "test_data_pred=test.copy()\n",
    "test_data_pred.drop(columns=['id'],inplace=True)\n",
    "test.head()\n",
    "\n",
    "test_data_pred=scaler.transform(test_data_pred)\n",
    "w_pred=pd.DataFrame({\n",
    "    'id': test.id,\n",
    "      'xgb_smoking':xgb_model.predict(test_data_pred)})\n",
    "\n",
    "w_pred.to_csv('xgb.csv',index=False)"
   ]
  },
  {
   "cell_type": "code",
   "execution_count": 11,
   "id": "2472ba48-6646-4aa1-aeff-919295de4dfb",
   "metadata": {
    "tags": []
   },
   "outputs": [
    {
     "name": "stdout",
     "output_type": "stream",
     "text": [
      "(106171, 28)\n",
      "3318/3318 [==============================] - 3s 902us/step\n",
      "3318/3318 [==============================] - 6s 2ms/step\n",
      "<class 'pandas.core.frame.DataFrame'>\n",
      "RangeIndex: 106171 entries, 0 to 106170\n",
      "Data columns (total 6 columns):\n",
      " #   Column       Non-Null Count   Dtype\n",
      "---  ------       --------------   -----\n",
      " 0   id           106171 non-null  int64\n",
      " 1   xgb_smoking  106171 non-null  int32\n",
      " 2   lr_smoking   106171 non-null  int64\n",
      " 3   rf_smoking   106171 non-null  int64\n",
      " 4   fnn_smoking  106171 non-null  int32\n",
      " 5   rnn_smoking  106171 non-null  int32\n",
      "dtypes: int32(3), int64(3)\n",
      "memory usage: 3.6 MB\n",
      "None\n"
     ]
    }
   ],
   "source": [
    "print(test.shape)\n",
    "output_fnn = model_fnn.predict(test_data_pred)\n",
    "\n",
    "# If 'output_fnn' is not 1D, flatten it\n",
    "if len(output_fnn.shape) > 1:\n",
    "    output_fnn = output_fnn[:, 0] \n",
    "\n",
    "    \n",
    "output_rnn = model_rnn.predict(test_data_pred)\n",
    "\n",
    "# If 'output_fnn' is not 1D, flatten it\n",
    "if len(output_rnn.shape) > 1:\n",
    "    output_rnn = output_rnn[:, 0] \n",
    "    \n",
    "    \n",
    "'''   \n",
    "output_lstm= model_lstm.predict(test_data_pred)\n",
    "\n",
    "# If 'output_fnn' is not 1D, flatten it\n",
    "if len(output_lstm.shape) > 1:\n",
    "    output_lstm = output_lstm[:, 0] \n",
    "'''   \n",
    "    \n",
    "    \n",
    "    \n",
    "    \n",
    "results_df = pd.DataFrame({\n",
    "    'id': test.id,  # Assuming 'id' is the index in the test_data DataFrame\n",
    "    'xgb_smoking':xgb_model.predict(test_data_pred),\n",
    "    'lr_smoking':lr_model.predict(test_data_pred),\n",
    "    #'dt_smoking':dt_model.predict(test_data_pred),\n",
    "    'rf_smoking':rf_classifier.predict(test_data_pred),\n",
    "   # 'knn_smoking':knn_classifier.predict(test_data_pred),\n",
    "   # 'nb_smoking':nb_classifier.predict(test_data_pred),\n",
    "    'fnn_smoking':(output_fnn >= 0.5).astype(int),\n",
    "    'rnn_smoking':(output_rnn >= 0.5).astype(int),\n",
    "  #  'lstm_smoking':(output_lstm >= 0.5).astype(int),\n",
    "    \n",
    "\n",
    "})\n",
    "\n",
    "# Set the 'id' column as the index\n",
    "#results_df.set_index('id', inplace=True)\n",
    "#results_df.set_index('id', inplace=True)\n",
    "\n",
    "# Now, 'results_df' will have 'id' as the index, and it contains the predicted values\n",
    "print(results_df.info())\n",
    "\n",
    "# Save the DataFrame to a CSV file\n",
    "results_df.to_csv('submission.csv',index=False)"
   ]
  },
  {
   "cell_type": "code",
   "execution_count": 12,
   "id": "d4070c5c-0e05-453a-a312-179ff30fa1df",
   "metadata": {
    "tags": []
   },
   "outputs": [
    {
     "name": "stdout",
     "output_type": "stream",
     "text": [
      "<class 'pandas.core.frame.DataFrame'>\n",
      "RangeIndex: 106171 entries, 0 to 106170\n",
      "Data columns (total 2 columns):\n",
      " #   Column          Non-Null Count   Dtype\n",
      "---  ------          --------------   -----\n",
      " 0   id              106171 non-null  int64\n",
      " 1   avg_prediction  106171 non-null  int32\n",
      "dtypes: int32(1), int64(1)\n",
      "memory usage: 1.2 MB\n",
      "None\n"
     ]
    }
   ],
   "source": [
    "import pandas as pd\n",
    "final=results_df.copy()\n",
    "# Assuming df is your DataFrame\n",
    "final['avg_prediction'] = (final.iloc[:, 1:] >= 0.5).mean(axis=1).round().astype(int)\n",
    "\n",
    "# Drop the individual prediction columns if needed\n",
    "final.drop(columns=['xgb_smoking', 'lr_smoking', 'rf_smoking',\n",
    "                        'fnn_smoking','rnn_smoking'], inplace=True)#'nb_smoking',,'lstm_smoking' 'knn_smoking', \n",
    "\n",
    "# Now, df will have a new column 'avg_prediction' containing the average based on your condition\n",
    "\n",
    "\n",
    "print(final.info())\n",
    "\n",
    "# Save the DataFrame to a CSV file\n",
    "final.to_csv('single_sub.csv',index=False)"
   ]
  },
  {
   "cell_type": "code",
   "execution_count": null,
   "id": "fb84cc9b-00c7-4077-9f24-334b26aecf2f",
   "metadata": {},
   "outputs": [],
   "source": []
  }
 ],
 "metadata": {
  "kernelspec": {
   "display_name": "Python 3 (ipykernel)",
   "language": "python",
   "name": "python3"
  },
  "language_info": {
   "codemirror_mode": {
    "name": "ipython",
    "version": 3
   },
   "file_extension": ".py",
   "mimetype": "text/x-python",
   "name": "python",
   "nbconvert_exporter": "python",
   "pygments_lexer": "ipython3",
   "version": "3.9.18"
  }
 },
 "nbformat": 4,
 "nbformat_minor": 5
}
